{
 "cells": [
  {
   "cell_type": "code",
   "execution_count": 1,
   "id": "bb3f0c33",
   "metadata": {
    "scrolled": true
   },
   "outputs": [
    {
     "name": "stderr",
     "output_type": "stream",
     "text": [
      "2024-07-22 21:29:33.992967: I tensorflow/core/platform/cpu_feature_guard.cc:193] This TensorFlow binary is optimized with oneAPI Deep Neural Network Library (oneDNN) to use the following CPU instructions in performance-critical operations:  AVX2 FMA\n",
      "To enable them in other operations, rebuild TensorFlow with the appropriate compiler flags.\n"
     ]
    }
   ],
   "source": [
    "import numpy as np\n",
    "import pandas as pd\n",
    "import matplotlib.pyplot as plt\n",
    "import sys\n",
    "import os\n",
    "\n",
    "from keras.models import Model\n",
    "from keras.layers import Dense, Embedding, Input, LSTM\n",
    "from keras.preprocessing.text import Tokenizer\n",
    "from tensorflow.keras.preprocessing.sequence import pad_sequences\n",
    "from keras.optimizers import Adam, SGD\n",
    "# sys.version"
   ]
  },
  {
   "cell_type": "markdown",
   "id": "ffce9a8a",
   "metadata": {},
   "source": [
    "### Loading the data"
   ]
  },
  {
   "cell_type": "code",
   "execution_count": 2,
   "id": "7a02969a",
   "metadata": {},
   "outputs": [],
   "source": [
    "input_texts = []\n",
    "target_texts = []"
   ]
  },
  {
   "cell_type": "code",
   "execution_count": 3,
   "id": "24ad1f79",
   "metadata": {},
   "outputs": [],
   "source": [
    "for line in open(\"../poetry_generator/data/robert_frost.txt\"):\n",
    "    line = line.rstrip()\n",
    "    if not line:\n",
    "        continue\n",
    "        \n",
    "    input_line = '<sos>' + line\n",
    "    target_line = line + '<eos>'\n",
    "    \n",
    "    input_texts.append(input_line)\n",
    "    target_texts.append(target_line)"
   ]
  },
  {
   "cell_type": "code",
   "execution_count": 4,
   "id": "77265eb2",
   "metadata": {},
   "outputs": [
    {
     "data": {
      "text/plain": [
       "['<sos>Two roads diverged in a yellow wood,',\n",
       " '<sos>And sorry I could not travel both',\n",
       " '<sos>And be one traveler, long I stood',\n",
       " '<sos>And looked down one as far as I could',\n",
       " '<sos>To where it bent in the undergrowth;',\n",
       " '<sos>Then took the other, as just as fair,',\n",
       " '<sos>And having perhaps the better claim',\n",
       " '<sos>Because it was grassy and wanted wear,',\n",
       " '<sos>Though as for that the passing there',\n",
       " '<sos>Had worn them really about the same,',\n",
       " '<sos>And both that morning equally lay',\n",
       " '<sos>In leaves no step had trodden black.',\n",
       " '<sos>Oh, I kept the first for another day!',\n",
       " '<sos>Yet knowing how way leads on to way',\n",
       " '<sos>I doubted if I should ever come back.']"
      ]
     },
     "execution_count": 4,
     "metadata": {},
     "output_type": "execute_result"
    }
   ],
   "source": [
    "all_lines = input_texts + target_texts\n",
    "all_lines[:15]"
   ]
  },
  {
   "cell_type": "code",
   "execution_count": 5,
   "id": "e8b516bb",
   "metadata": {},
   "outputs": [
    {
     "data": {
      "text/plain": [
       "2872"
      ]
     },
     "execution_count": 5,
     "metadata": {},
     "output_type": "execute_result"
    }
   ],
   "source": [
    "len(all_lines)"
   ]
  },
  {
   "cell_type": "markdown",
   "id": "8cfc018c",
   "metadata": {},
   "source": [
    "### Converting sentences into integers and word to integer mapping\n",
    "#### Tokenizer 1) Splits into individual tokens/words 2) each word is converted into an integer index for mapping "
   ]
  },
  {
   "cell_type": "code",
   "execution_count": 6,
   "id": "7a3469dc",
   "metadata": {},
   "outputs": [],
   "source": [
    "from keras.preprocessing.text import Tokenizer\n",
    "\n",
    "MAX_VOCAB_SIZE = 3000\n",
    "MAX_SEQUENCE_LENGTH = 100"
   ]
  },
  {
   "cell_type": "code",
   "execution_count": 7,
   "id": "64b9600a",
   "metadata": {},
   "outputs": [
    {
     "data": {
      "text/plain": [
       "[[133, 571, 572, 7, 3, 573],\n",
       " [4, 574, 5, 66, 28, 984],\n",
       " [4, 24, 25, 985, 163, 5],\n",
       " [4, 181, 69, 25, 14, 137, 14, 5],\n",
       " [2, 39, 8, 986, 7, 1],\n",
       " [130, 197, 1, 575, 14, 73, 14],\n",
       " [4, 145, 305, 1, 260],\n",
       " [440, 8, 12, 576, 4, 244],\n",
       " [155, 14, 13, 11, 1, 577, 2280],\n",
       " [21, 579, 50, 415, 122, 1],\n",
       " [4, 153, 11, 987, 988, 2281],\n",
       " [7, 989, 44, 581, 21, 990, 2282],\n",
       " [941, 5, 261, 1, 262, 13, 323],\n",
       " [191, 992, 106, 80, 993, 15, 2],\n",
       " [5, 994, 29, 5, 126, 154, 86, 2283]]"
      ]
     },
     "execution_count": 7,
     "metadata": {},
     "output_type": "execute_result"
    }
   ],
   "source": [
    "tokenizer = Tokenizer(num_words=MAX_VOCAB_SIZE, filters='')\n",
    "tokenizer.fit_on_texts(all_lines)\n",
    "input_sequences = tokenizer.texts_to_sequences(input_texts)\n",
    "target_sequences = tokenizer.texts_to_sequences(target_texts)\n",
    "\n",
    "target_sequences[:15]"
   ]
  },
  {
   "cell_type": "code",
   "execution_count": 8,
   "id": "63e6cf4a",
   "metadata": {},
   "outputs": [
    {
     "name": "stdout",
     "output_type": "stream",
     "text": [
      "[[413, 571, 572, 7, 3, 573, 808], [16, 574, 5, 66, 28, 984, 153], [16, 24, 25, 985, 163, 5, 258], [16, 181, 69, 25, 14, 137, 14, 5, 66], [59, 39, 8, 986, 7, 1, 2408], [259, 197, 1, 575, 14, 73, 14, 2409], [16, 145, 305, 1, 260, 2410], [2411, 8, 12, 576, 4, 244, 2412], [414, 14, 13, 11, 1, 577, 58], [578, 579, 50, 415, 122, 1, 809], [16, 153, 11, 987, 988, 580], [102, 989, 44, 581, 21, 990, 991], [2413, 5, 261, 1, 262, 13, 323, 2414], [810, 992, 106, 80, 993, 15, 2, 80], [30, 994, 29, 5, 126, 154, 86, 324]]\n",
      "Maximum sequence length 11\n"
     ]
    }
   ],
   "source": [
    "print(input_sequences[:15])\n",
    "\n",
    "max_seq_len_from_data = max(len(s) for s in input_sequences)\n",
    "print('Maximum sequence length', max_seq_len_from_data)\n"
   ]
  },
  {
   "cell_type": "markdown",
   "id": "a44c85a1",
   "metadata": {},
   "source": [
    "#### word to integer mapping"
   ]
  },
  {
   "cell_type": "code",
   "execution_count": 9,
   "id": "79a35ca2",
   "metadata": {},
   "outputs": [
    {
     "name": "stdout",
     "output_type": "stream",
     "text": [
      "unique tokens = 4614\n"
     ]
    }
   ],
   "source": [
    "word_to_index = tokenizer.word_index\n",
    "print('unique tokens =',len(word_to_index))\n",
    "# assert('<sos>' in word_to_index)\n",
    "# assert('<eos>' in word_to_index)"
   ]
  },
  {
   "cell_type": "markdown",
   "id": "edd352a2",
   "metadata": {},
   "source": [
    "### Padding sequences --> by adding padding tokens, all sequences of varying lengths have same length so that they can be effectively processed by the model"
   ]
  },
  {
   "cell_type": "code",
   "execution_count": 10,
   "id": "b163dd6f",
   "metadata": {},
   "outputs": [],
   "source": [
    "max_seq_len = min(max_seq_len_from_data, MAX_SEQUENCE_LENGTH)\n",
    "input_sequences = pad_sequences(input_sequences, maxlen=max_seq_len, padding='post')\n",
    "target_sequences = pad_sequences(target_sequences, maxlen=max_seq_len, padding='post')"
   ]
  },
  {
   "cell_type": "code",
   "execution_count": 11,
   "id": "f1fac0f7",
   "metadata": {
    "scrolled": true
   },
   "outputs": [
    {
     "name": "stdout",
     "output_type": "stream",
     "text": [
      "Input sequence is [413 571 572   7   3 573 808   0   0   0   0] with the size of 11\n",
      "Target sequence is [133 571 572   7   3 573   0   0   0   0   0] with the size of 11\n"
     ]
    }
   ],
   "source": [
    "print('Input sequence is {} with the size of {}' .format(input_sequences[0], input_sequences.shape[1]))\n",
    "print('Target sequence is {} with the size of {}' .format(target_sequences[0], target_sequences.shape[1]))"
   ]
  },
  {
   "cell_type": "markdown",
   "id": "556b0442",
   "metadata": {},
   "source": [
    "### Load pre-trained word vectors with GloVe and word --> vec mapping"
   ]
  },
  {
   "cell_type": "code",
   "execution_count": 14,
   "id": "d5009b13",
   "metadata": {},
   "outputs": [],
   "source": [
    "path2glove = os.getcwd() + '/glove/glove.6B.50d.txt'"
   ]
  },
  {
   "cell_type": "code",
   "execution_count": 34,
   "id": "90ffaeb2",
   "metadata": {
    "scrolled": true
   },
   "outputs": [
    {
     "name": "stdout",
     "output_type": "stream",
     "text": [
      "Found 400000 word vectors.\n"
     ]
    }
   ],
   "source": [
    "word2vec = {}\n",
    "with open(path2glove) as f:\n",
    "    for line in f:\n",
    "        values = line.split()\n",
    "        word = values[0]\n",
    "        vec = np.asarray(values[1:], dtype='float32')\n",
    "        word2vec[word] = vec\n",
    "        \n",
    "    print('Found {} word vectors.' .format(len(word2vec)))"
   ]
  },
  {
   "cell_type": "code",
   "execution_count": 45,
   "id": "cec4ac04",
   "metadata": {},
   "outputs": [
    {
     "data": {
      "text/plain": [
       "{'the': array([ 4.1800e-01,  2.4968e-01, -4.1242e-01,  1.2170e-01,  3.4527e-01,\n",
       "        -4.4457e-02, -4.9688e-01, -1.7862e-01, -6.6023e-04, -6.5660e-01,\n",
       "         2.7843e-01, -1.4767e-01, -5.5677e-01,  1.4658e-01, -9.5095e-03,\n",
       "         1.1658e-02,  1.0204e-01, -1.2792e-01, -8.4430e-01, -1.2181e-01,\n",
       "        -1.6801e-02, -3.3279e-01, -1.5520e-01, -2.3131e-01, -1.9181e-01,\n",
       "        -1.8823e+00, -7.6746e-01,  9.9051e-02, -4.2125e-01, -1.9526e-01,\n",
       "         4.0071e+00, -1.8594e-01, -5.2287e-01, -3.1681e-01,  5.9213e-04,\n",
       "         7.4449e-03,  1.7778e-01, -1.5897e-01,  1.2041e-02, -5.4223e-02,\n",
       "        -2.9871e-01, -1.5749e-01, -3.4758e-01, -4.5637e-02, -4.4251e-01,\n",
       "         1.8785e-01,  2.7849e-03, -1.8411e-01, -1.1514e-01, -7.8581e-01],\n",
       "       dtype=float32),\n",
       " ',': array([ 0.013441,  0.23682 , -0.16899 ,  0.40951 ,  0.63812 ,  0.47709 ,\n",
       "        -0.42852 , -0.55641 , -0.364   , -0.23938 ,  0.13001 , -0.063734,\n",
       "        -0.39575 , -0.48162 ,  0.23291 ,  0.090201, -0.13324 ,  0.078639,\n",
       "        -0.41634 , -0.15428 ,  0.10068 ,  0.48891 ,  0.31226 , -0.1252  ,\n",
       "        -0.037512, -1.5179  ,  0.12612 , -0.02442 , -0.042961, -0.28351 ,\n",
       "         3.5416  , -0.11956 , -0.014533, -0.1499  ,  0.21864 , -0.33412 ,\n",
       "        -0.13872 ,  0.31806 ,  0.70358 ,  0.44858 , -0.080262,  0.63003 ,\n",
       "         0.32111 , -0.46765 ,  0.22786 ,  0.36034 , -0.37818 , -0.56657 ,\n",
       "         0.044691,  0.30392 ], dtype=float32),\n",
       " '.': array([ 1.5164e-01,  3.0177e-01, -1.6763e-01,  1.7684e-01,  3.1719e-01,\n",
       "         3.3973e-01, -4.3478e-01, -3.1086e-01, -4.4999e-01, -2.9486e-01,\n",
       "         1.6608e-01,  1.1963e-01, -4.1328e-01, -4.2353e-01,  5.9868e-01,\n",
       "         2.8825e-01, -1.1547e-01, -4.1848e-02, -6.7989e-01, -2.5063e-01,\n",
       "         1.8472e-01,  8.6876e-02,  4.6582e-01,  1.5035e-02,  4.3474e-02,\n",
       "        -1.4671e+00, -3.0384e-01, -2.3441e-02,  3.0589e-01, -2.1785e-01,\n",
       "         3.7460e+00,  4.2284e-03, -1.8436e-01, -4.6209e-01,  9.8329e-02,\n",
       "        -1.1907e-01,  2.3919e-01,  1.1610e-01,  4.1705e-01,  5.6763e-02,\n",
       "        -6.3681e-05,  6.8987e-02,  8.7939e-02, -1.0285e-01, -1.3931e-01,\n",
       "         2.2314e-01, -8.0803e-02, -3.5652e-01,  1.6413e-02,  1.0216e-01],\n",
       "       dtype=float32)}"
      ]
     },
     "execution_count": 45,
     "metadata": {},
     "output_type": "execute_result"
    }
   ],
   "source": [
    "from itertools import islice\n",
    "\n",
    "dict(islice(word2vec.items(), 3))"
   ]
  },
  {
   "cell_type": "code",
   "execution_count": 40,
   "id": "5c096ed0",
   "metadata": {},
   "outputs": [
    {
     "name": "stdout",
     "output_type": "stream",
     "text": [
      "{'the': array([ 4.1800e-01,  2.4968e-01, -4.1242e-01,  1.2170e-01,  3.4527e-01,\n",
      "       -4.4457e-02, -4.9688e-01, -1.7862e-01, -6.6023e-04, -6.5660e-01,\n",
      "        2.7843e-01, -1.4767e-01, -5.5677e-01,  1.4658e-01, -9.5095e-03,\n",
      "        1.1658e-02,  1.0204e-01, -1.2792e-01, -8.4430e-01, -1.2181e-01,\n",
      "       -1.6801e-02, -3.3279e-01, -1.5520e-01, -2.3131e-01, -1.9181e-01,\n",
      "       -1.8823e+00, -7.6746e-01,  9.9051e-02, -4.2125e-01, -1.9526e-01,\n",
      "        4.0071e+00, -1.8594e-01, -5.2287e-01, -3.1681e-01,  5.9213e-04,\n",
      "        7.4449e-03,  1.7778e-01, -1.5897e-01,  1.2041e-02, -5.4223e-02,\n",
      "       -2.9871e-01, -1.5749e-01, -3.4758e-01, -4.5637e-02, -4.4251e-01,\n",
      "        1.8785e-01,  2.7849e-03, -1.8411e-01, -1.1514e-01, -7.8581e-01],\n",
      "      dtype=float32), ',': array([ 0.013441,  0.23682 , -0.16899 ,  0.40951 ,  0.63812 ,  0.47709 ,\n",
      "       -0.42852 , -0.55641 , -0.364   , -0.23938 ,  0.13001 , -0.063734,\n",
      "       -0.39575 , -0.48162 ,  0.23291 ,  0.090201, -0.13324 ,  0.078639,\n",
      "       -0.41634 , -0.15428 ,  0.10068 ,  0.48891 ,  0.31226 , -0.1252  ,\n",
      "       -0.037512, -1.5179  ,  0.12612 , -0.02442 , -0.042961, -0.28351 ,\n",
      "        3.5416  , -0.11956 , -0.014533, -0.1499  ,  0.21864 , -0.33412 ,\n",
      "       -0.13872 ,  0.31806 ,  0.70358 ,  0.44858 , -0.080262,  0.63003 ,\n",
      "        0.32111 , -0.46765 ,  0.22786 ,  0.36034 , -0.37818 , -0.56657 ,\n",
      "        0.044691,  0.30392 ], dtype=float32), '.': array([ 1.5164e-01,  3.0177e-01, -1.6763e-01,  1.7684e-01,  3.1719e-01,\n",
      "        3.3973e-01, -4.3478e-01, -3.1086e-01, -4.4999e-01, -2.9486e-01,\n",
      "        1.6608e-01,  1.1963e-01, -4.1328e-01, -4.2353e-01,  5.9868e-01,\n",
      "        2.8825e-01, -1.1547e-01, -4.1848e-02, -6.7989e-01, -2.5063e-01,\n",
      "        1.8472e-01,  8.6876e-02,  4.6582e-01,  1.5035e-02,  4.3474e-02,\n",
      "       -1.4671e+00, -3.0384e-01, -2.3441e-02,  3.0589e-01, -2.1785e-01,\n",
      "        3.7460e+00,  4.2284e-03, -1.8436e-01, -4.6209e-01,  9.8329e-02,\n",
      "       -1.1907e-01,  2.3919e-01,  1.1610e-01,  4.1705e-01,  5.6763e-02,\n",
      "       -6.3681e-05,  6.8987e-02,  8.7939e-02, -1.0285e-01, -1.3931e-01,\n",
      "        2.2314e-01, -8.0803e-02, -3.5652e-01,  1.6413e-02,  1.0216e-01],\n",
      "      dtype=float32)}\n"
     ]
    }
   ],
   "source": [
    "from itertools import islice\n",
    "\n",
    "word2vec_first_10 = dict(islice(word2vec.items(), 3))\n",
    "\n",
    "print(word2vec_first_10)"
   ]
  },
  {
   "cell_type": "code",
   "execution_count": null,
   "id": "a2a0b3e8",
   "metadata": {},
   "outputs": [],
   "source": []
  },
  {
   "cell_type": "code",
   "execution_count": null,
   "id": "cf16ce7e",
   "metadata": {},
   "outputs": [],
   "source": []
  },
  {
   "cell_type": "code",
   "execution_count": null,
   "id": "685bed6b",
   "metadata": {},
   "outputs": [],
   "source": []
  }
 ],
 "metadata": {
  "kernelspec": {
   "display_name": "Python 3 (ipykernel)",
   "language": "python",
   "name": "python3"
  },
  "language_info": {
   "codemirror_mode": {
    "name": "ipython",
    "version": 3
   },
   "file_extension": ".py",
   "mimetype": "text/x-python",
   "name": "python",
   "nbconvert_exporter": "python",
   "pygments_lexer": "ipython3",
   "version": "3.9.6"
  }
 },
 "nbformat": 4,
 "nbformat_minor": 5
}
